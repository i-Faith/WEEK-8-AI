{
 "cells": [
  {
   "cell_type": "code",
   "execution_count": 1,
   "id": "6d50e7ed",
   "metadata": {},
   "outputs": [],
   "source": [
    "# Step 1: Import Libraries\n",
    "import pandas as pd\n",
    "import matplotlib.pyplot as plt\n",
    "import seaborn as sns\n",
    "\n"
   ]
  },
  {
   "cell_type": "code",
   "execution_count": 2,
   "id": "17e3067a",
   "metadata": {},
   "outputs": [],
   "source": [
    "# Load Dataset\n",
    "df = pd.read_csv(\"human_vital_signs_dataset_2024.csv\")"
   ]
  },
  {
   "cell_type": "code",
   "execution_count": 3,
   "id": "f33e495c",
   "metadata": {},
   "outputs": [
    {
     "name": "stdout",
     "output_type": "stream",
     "text": [
      "Dataset Preview:\n",
      "   Patient ID  Heart Rate  Respiratory Rate                   Timestamp  \\\n",
      "0           1          60                12  2024-07-19 21:53:45.729841   \n",
      "1           2          63                18  2024-07-19 21:52:45.729841   \n",
      "2           3          63                15  2024-07-19 21:51:45.729841   \n",
      "3           4          99                16  2024-07-19 21:50:45.729841   \n",
      "4           5          69                16  2024-07-19 21:49:45.729841   \n",
      "\n",
      "   Body Temperature  Oxygen Saturation  Systolic Blood Pressure  \\\n",
      "0         36.861707          95.702046                      124   \n",
      "1         36.511633          96.689413                      126   \n",
      "2         37.052049          98.508265                      131   \n",
      "3         36.654748          95.011801                      118   \n",
      "4         36.975098          98.623792                      138   \n",
      "\n",
      "   Diastolic Blood Pressure  Age  Gender  Weight (kg)  Height (m)  \\\n",
      "0                        86   37  Female    91.541618    1.679351   \n",
      "1                        84   77    Male    50.704921    1.992546   \n",
      "2                        78   68  Female    90.316760    1.770228   \n",
      "3                        72   41  Female    96.006188    1.833629   \n",
      "4                        76   25  Female    56.020006    1.866419   \n",
      "\n",
      "   Derived_HRV  Derived_Pulse_Pressure  Derived_BMI  Derived_MAP Risk Category  \n",
      "0     0.121033                      38    32.459031    98.666667     High Risk  \n",
      "1     0.117062                      42    12.771246    98.000000     High Risk  \n",
      "2     0.053200                      53    28.821069    95.666667      Low Risk  \n",
      "3     0.064475                      46    28.554611    87.333333     High Risk  \n",
      "4     0.118484                      62    16.081438    96.666667     High Risk  \n"
     ]
    }
   ],
   "source": [
    "#Preview Data\n",
    "print(\"Dataset Preview:\")\n",
    "print(df.head())\n"
   ]
  },
  {
   "cell_type": "code",
   "execution_count": 4,
   "id": "536d54c4",
   "metadata": {},
   "outputs": [
    {
     "name": "stdout",
     "output_type": "stream",
     "text": [
      "<class 'pandas.core.frame.DataFrame'>\n",
      "RangeIndex: 200020 entries, 0 to 200019\n",
      "Data columns (total 17 columns):\n",
      " #   Column                    Non-Null Count   Dtype  \n",
      "---  ------                    --------------   -----  \n",
      " 0   Patient ID                200020 non-null  int64  \n",
      " 1   Heart Rate                200020 non-null  int64  \n",
      " 2   Respiratory Rate          200020 non-null  int64  \n",
      " 3   Timestamp                 200020 non-null  object \n",
      " 4   Body Temperature          200020 non-null  float64\n",
      " 5   Oxygen Saturation         200020 non-null  float64\n",
      " 6   Systolic Blood Pressure   200020 non-null  int64  \n",
      " 7   Diastolic Blood Pressure  200020 non-null  int64  \n",
      " 8   Age                       200020 non-null  int64  \n",
      " 9   Gender                    200020 non-null  object \n",
      " 10  Weight (kg)               200020 non-null  float64\n",
      " 11  Height (m)                200020 non-null  float64\n",
      " 12  Derived_HRV               200020 non-null  float64\n",
      " 13  Derived_Pulse_Pressure    200020 non-null  int64  \n",
      " 14  Derived_BMI               200020 non-null  float64\n",
      " 15  Derived_MAP               200020 non-null  float64\n",
      " 16  Risk Category             200020 non-null  object \n",
      "dtypes: float64(7), int64(7), object(3)\n",
      "memory usage: 25.9+ MB\n"
     ]
    }
   ],
   "source": [
    "df.info()"
   ]
  },
  {
   "cell_type": "code",
   "execution_count": 5,
   "id": "31caedf1",
   "metadata": {},
   "outputs": [
    {
     "name": "stdout",
     "output_type": "stream",
     "text": [
      "\n",
      "Missing Values:\n"
     ]
    },
    {
     "data": {
      "text/plain": [
       "Patient ID                  0\n",
       "Heart Rate                  0\n",
       "Respiratory Rate            0\n",
       "Timestamp                   0\n",
       "Body Temperature            0\n",
       "Oxygen Saturation           0\n",
       "Systolic Blood Pressure     0\n",
       "Diastolic Blood Pressure    0\n",
       "Age                         0\n",
       "Gender                      0\n",
       "Weight (kg)                 0\n",
       "Height (m)                  0\n",
       "Derived_HRV                 0\n",
       "Derived_Pulse_Pressure      0\n",
       "Derived_BMI                 0\n",
       "Derived_MAP                 0\n",
       "Risk Category               0\n",
       "dtype: int64"
      ]
     },
     "execution_count": 5,
     "metadata": {},
     "output_type": "execute_result"
    }
   ],
   "source": [
    " #Check for Nulls\n",
    "print(\"\\nMissing Values:\")\n",
    "df.isnull().sum()"
   ]
  },
  {
   "cell_type": "code",
   "execution_count": 6,
   "id": "66344875",
   "metadata": {},
   "outputs": [
    {
     "name": "stdout",
     "output_type": "stream",
     "text": [
      "\n",
      "Summary Statistics:\n"
     ]
    },
    {
     "data": {
      "text/html": [
       "<div>\n",
       "<style scoped>\n",
       "    .dataframe tbody tr th:only-of-type {\n",
       "        vertical-align: middle;\n",
       "    }\n",
       "\n",
       "    .dataframe tbody tr th {\n",
       "        vertical-align: top;\n",
       "    }\n",
       "\n",
       "    .dataframe thead th {\n",
       "        text-align: right;\n",
       "    }\n",
       "</style>\n",
       "<table border=\"1\" class=\"dataframe\">\n",
       "  <thead>\n",
       "    <tr style=\"text-align: right;\">\n",
       "      <th></th>\n",
       "      <th>Patient ID</th>\n",
       "      <th>Heart Rate</th>\n",
       "      <th>Respiratory Rate</th>\n",
       "      <th>Body Temperature</th>\n",
       "      <th>Oxygen Saturation</th>\n",
       "      <th>Systolic Blood Pressure</th>\n",
       "      <th>Diastolic Blood Pressure</th>\n",
       "      <th>Age</th>\n",
       "      <th>Weight (kg)</th>\n",
       "      <th>Height (m)</th>\n",
       "      <th>Derived_HRV</th>\n",
       "      <th>Derived_Pulse_Pressure</th>\n",
       "      <th>Derived_BMI</th>\n",
       "      <th>Derived_MAP</th>\n",
       "    </tr>\n",
       "  </thead>\n",
       "  <tbody>\n",
       "    <tr>\n",
       "      <th>count</th>\n",
       "      <td>200020.000000</td>\n",
       "      <td>200020.000000</td>\n",
       "      <td>200020.000000</td>\n",
       "      <td>200020.000000</td>\n",
       "      <td>200020.000000</td>\n",
       "      <td>200020.000000</td>\n",
       "      <td>200020.000000</td>\n",
       "      <td>200020.000000</td>\n",
       "      <td>200020.000000</td>\n",
       "      <td>200020.000000</td>\n",
       "      <td>200020.000000</td>\n",
       "      <td>200020.000000</td>\n",
       "      <td>200020.000000</td>\n",
       "      <td>200020.000000</td>\n",
       "    </tr>\n",
       "    <tr>\n",
       "      <th>mean</th>\n",
       "      <td>100010.500000</td>\n",
       "      <td>79.533747</td>\n",
       "      <td>15.489451</td>\n",
       "      <td>36.748353</td>\n",
       "      <td>97.504372</td>\n",
       "      <td>124.437971</td>\n",
       "      <td>79.499625</td>\n",
       "      <td>53.446275</td>\n",
       "      <td>74.996419</td>\n",
       "      <td>1.750031</td>\n",
       "      <td>0.099970</td>\n",
       "      <td>44.938346</td>\n",
       "      <td>25.003625</td>\n",
       "      <td>94.479074</td>\n",
       "    </tr>\n",
       "    <tr>\n",
       "      <th>std</th>\n",
       "      <td>57740.944759</td>\n",
       "      <td>11.552894</td>\n",
       "      <td>2.294472</td>\n",
       "      <td>0.433290</td>\n",
       "      <td>1.442598</td>\n",
       "      <td>8.656946</td>\n",
       "      <td>5.757248</td>\n",
       "      <td>20.786802</td>\n",
       "      <td>14.471502</td>\n",
       "      <td>0.144554</td>\n",
       "      <td>0.028861</td>\n",
       "      <td>10.404945</td>\n",
       "      <td>6.447143</td>\n",
       "      <td>4.797891</td>\n",
       "    </tr>\n",
       "    <tr>\n",
       "      <th>min</th>\n",
       "      <td>1.000000</td>\n",
       "      <td>60.000000</td>\n",
       "      <td>12.000000</td>\n",
       "      <td>36.000004</td>\n",
       "      <td>95.000007</td>\n",
       "      <td>110.000000</td>\n",
       "      <td>70.000000</td>\n",
       "      <td>18.000000</td>\n",
       "      <td>50.000156</td>\n",
       "      <td>1.500001</td>\n",
       "      <td>0.050000</td>\n",
       "      <td>21.000000</td>\n",
       "      <td>12.505974</td>\n",
       "      <td>83.333333</td>\n",
       "    </tr>\n",
       "    <tr>\n",
       "      <th>25%</th>\n",
       "      <td>50005.750000</td>\n",
       "      <td>70.000000</td>\n",
       "      <td>13.000000</td>\n",
       "      <td>36.372613</td>\n",
       "      <td>96.256859</td>\n",
       "      <td>117.000000</td>\n",
       "      <td>75.000000</td>\n",
       "      <td>35.000000</td>\n",
       "      <td>62.423615</td>\n",
       "      <td>1.624777</td>\n",
       "      <td>0.074955</td>\n",
       "      <td>37.000000</td>\n",
       "      <td>20.134367</td>\n",
       "      <td>91.000000</td>\n",
       "    </tr>\n",
       "    <tr>\n",
       "      <th>50%</th>\n",
       "      <td>100010.500000</td>\n",
       "      <td>80.000000</td>\n",
       "      <td>15.000000</td>\n",
       "      <td>36.747741</td>\n",
       "      <td>97.509629</td>\n",
       "      <td>124.000000</td>\n",
       "      <td>79.000000</td>\n",
       "      <td>53.000000</td>\n",
       "      <td>74.977169</td>\n",
       "      <td>1.750478</td>\n",
       "      <td>0.099988</td>\n",
       "      <td>45.000000</td>\n",
       "      <td>24.320776</td>\n",
       "      <td>94.333333</td>\n",
       "    </tr>\n",
       "    <tr>\n",
       "      <th>75%</th>\n",
       "      <td>150015.250000</td>\n",
       "      <td>90.000000</td>\n",
       "      <td>17.000000</td>\n",
       "      <td>37.123003</td>\n",
       "      <td>98.755722</td>\n",
       "      <td>132.000000</td>\n",
       "      <td>84.000000</td>\n",
       "      <td>71.000000</td>\n",
       "      <td>87.539510</td>\n",
       "      <td>1.875310</td>\n",
       "      <td>0.124917</td>\n",
       "      <td>53.000000</td>\n",
       "      <td>29.187169</td>\n",
       "      <td>98.000000</td>\n",
       "    </tr>\n",
       "    <tr>\n",
       "      <th>max</th>\n",
       "      <td>200020.000000</td>\n",
       "      <td>99.000000</td>\n",
       "      <td>19.000000</td>\n",
       "      <td>37.499992</td>\n",
       "      <td>99.999963</td>\n",
       "      <td>139.000000</td>\n",
       "      <td>89.000000</td>\n",
       "      <td>89.000000</td>\n",
       "      <td>99.999765</td>\n",
       "      <td>1.999997</td>\n",
       "      <td>0.149999</td>\n",
       "      <td>69.000000</td>\n",
       "      <td>44.376487</td>\n",
       "      <td>105.666667</td>\n",
       "    </tr>\n",
       "  </tbody>\n",
       "</table>\n",
       "</div>"
      ],
      "text/plain": [
       "          Patient ID     Heart Rate  Respiratory Rate  Body Temperature  \\\n",
       "count  200020.000000  200020.000000     200020.000000     200020.000000   \n",
       "mean   100010.500000      79.533747         15.489451         36.748353   \n",
       "std     57740.944759      11.552894          2.294472          0.433290   \n",
       "min         1.000000      60.000000         12.000000         36.000004   \n",
       "25%     50005.750000      70.000000         13.000000         36.372613   \n",
       "50%    100010.500000      80.000000         15.000000         36.747741   \n",
       "75%    150015.250000      90.000000         17.000000         37.123003   \n",
       "max    200020.000000      99.000000         19.000000         37.499992   \n",
       "\n",
       "       Oxygen Saturation  Systolic Blood Pressure  Diastolic Blood Pressure  \\\n",
       "count      200020.000000            200020.000000             200020.000000   \n",
       "mean           97.504372               124.437971                 79.499625   \n",
       "std             1.442598                 8.656946                  5.757248   \n",
       "min            95.000007               110.000000                 70.000000   \n",
       "25%            96.256859               117.000000                 75.000000   \n",
       "50%            97.509629               124.000000                 79.000000   \n",
       "75%            98.755722               132.000000                 84.000000   \n",
       "max            99.999963               139.000000                 89.000000   \n",
       "\n",
       "                 Age    Weight (kg)     Height (m)    Derived_HRV  \\\n",
       "count  200020.000000  200020.000000  200020.000000  200020.000000   \n",
       "mean       53.446275      74.996419       1.750031       0.099970   \n",
       "std        20.786802      14.471502       0.144554       0.028861   \n",
       "min        18.000000      50.000156       1.500001       0.050000   \n",
       "25%        35.000000      62.423615       1.624777       0.074955   \n",
       "50%        53.000000      74.977169       1.750478       0.099988   \n",
       "75%        71.000000      87.539510       1.875310       0.124917   \n",
       "max        89.000000      99.999765       1.999997       0.149999   \n",
       "\n",
       "       Derived_Pulse_Pressure    Derived_BMI    Derived_MAP  \n",
       "count           200020.000000  200020.000000  200020.000000  \n",
       "mean                44.938346      25.003625      94.479074  \n",
       "std                 10.404945       6.447143       4.797891  \n",
       "min                 21.000000      12.505974      83.333333  \n",
       "25%                 37.000000      20.134367      91.000000  \n",
       "50%                 45.000000      24.320776      94.333333  \n",
       "75%                 53.000000      29.187169      98.000000  \n",
       "max                 69.000000      44.376487     105.666667  "
      ]
     },
     "execution_count": 6,
     "metadata": {},
     "output_type": "execute_result"
    }
   ],
   "source": [
    "#Summary Statistics\n",
    "print(\"\\nSummary Statistics:\")\n",
    "df.describe()"
   ]
  },
  {
   "cell_type": "code",
   "execution_count": 7,
   "id": "932fbf44",
   "metadata": {},
   "outputs": [
    {
     "name": "stderr",
     "output_type": "stream",
     "text": [
      "C:\\Users\\Admin\\AppData\\Local\\Temp\\ipykernel_37384\\1344224350.py:2: FutureWarning: \n",
      "\n",
      "Passing `palette` without assigning `hue` is deprecated and will be removed in v0.14.0. Assign the `x` variable to `hue` and set `legend=False` for the same effect.\n",
      "\n",
      "  sns.countplot(data=df, x='Risk Category', palette='Set2')\n"
     ]
    },
    {
     "data": {
      "image/png": "[encoded data removed]",
      "text/plain": [
       "<Figure size 640x480 with 1 Axes>"
      ]
     },
     "metadata": {},
     "output_type": "display_data"
    }
   ],
   "source": [
    "\n",
    "# Distribution of Risk Category\n",
    "sns.countplot(data=df, x='Risk Category', palette='Set2')\n",
    "plt.title(\"Distribution of Risk Categories\")\n",
    "plt.xlabel(\"Risk Category\")\n",
    "plt.ylabel(\"Count\")\n",
    "plt.show()\n"
   ]
  },
  {
   "cell_type": "code",
   "execution_count": 13,
   "id": "70c0d137",
   "metadata": {},
   "outputs": [],
   "source": [
    "# Drop non-numeric or non-relevant columns\n",
    "df_cleaned = df.drop(columns=[\"Patient ID\", \"Timestamp\",])"
   ]
  },
  {
   "cell_type": "code",
   "execution_count": 14,
   "id": "9c6ebc74",
   "metadata": {},
   "outputs": [],
   "source": [
    "#encode categorical columns\n",
    "from sklearn.preprocessing import LabelEncoder\n"
   ]
  },
  {
   "cell_type": "code",
   "execution_count": 10,
   "id": "e23fabf1",
   "metadata": {},
   "outputs": [],
   "source": [
    " #Encode categorical columns\n",
    "le_gender = LabelEncoder()\n",
    "df[\"Gender\"] = le_gender.fit_transform(df[\"Gender\"])\n",
    "df[\"Risk Category\"] = LabelEncoder().fit_transform(df[\"Risk Category\"]) "
   ]
  },
  {
   "cell_type": "code",
   "execution_count": 15,
   "id": "a39f7eca",
   "metadata": {},
   "outputs": [],
   "source": [
    "# Train-test split\n",
    "from sklearn.model_selection import train_test_split\n",
    "X = df_cleaned.drop(columns=[\"Risk Category\"])\n",
    "y = df_cleaned[\"Risk Category\"]\n",
    "X_train, X_test, y_train, y_test = train_test_split(X, y, test_size=0.2, random_state=42)"
   ]
  },
  {
   "cell_type": "code",
   "execution_count": 16,
   "id": "bf164509",
   "metadata": {},
   "outputs": [
    {
     "name": "stdout",
     "output_type": "stream",
     "text": [
      "Confusion Matrix:\n",
      " [[20949     0]\n",
      " [    0 19055]]\n",
      "\n",
      "Classification Report:\n",
      "               precision    recall  f1-score   support\n",
      "\n",
      "           0       1.00      1.00      1.00     20949\n",
      "           1       1.00      1.00      1.00     19055\n",
      "\n",
      "    accuracy                           1.00     40004\n",
      "   macro avg       1.00      1.00      1.00     40004\n",
      "weighted avg       1.00      1.00      1.00     40004\n",
      "\n"
     ]
    }
   ],
   "source": [
    "# Train model\n",
    "from sklearn.ensemble import RandomForestClassifier\n",
    "from sklearn.metrics import confusion_matrix, classification_report\n",
    "model = RandomForestClassifier(n_estimators=100, random_state=42)\n",
    "model.fit(X_train, y_train)\n",
    "\n",
    "# Evaluate\n",
    "y_pred = model.predict(X_test)\n",
    "\n",
    "# Results\n",
    "print(\"Confusion Matrix:\\n\", confusion_matrix(y_test, y_pred))\n",
    "print(\"\\nClassification Report:\\n\", classification_report(y_test, y_pred))\n"
   ]
  },
  {
   "cell_type": "code",
   "execution_count": 17,
   "id": "7ad9be8e",
   "metadata": {},
   "outputs": [],
   "source": [
    "import matplotlib.pyplot as plt\n"
   ]
  },
  {
   "cell_type": "code",
   "execution_count": 18,
   "id": "8328fd05",
   "metadata": {},
   "outputs": [],
   "source": [
    "\n",
    "# Get feature importances from the model\n",
    "importances = model.feature_importances_\n",
    "features = X.columns"
   ]
  },
  {
   "cell_type": "code",
   "execution_count": 19,
   "id": "78929566",
   "metadata": {},
   "outputs": [
    {
     "data": {
      "image/png": "[encoded data removed]",
      "text/plain": [
       "<Figure size 1000x600 with 1 Axes>"
      ]
     },
     "metadata": {},
     "output_type": "display_data"
    }
   ],
   "source": [
    "\n",
    "# Plot\n",
    "plt.figure(figsize=(10, 6))\n",
    "plt.barh(features, importances)\n",
    "plt.xlabel(\"Feature Importance\")\n",
    "plt.ylabel(\"Vital Signs\")\n",
    "plt.title(\"Feature Importance in Risk Prediction\")\n",
    "plt.tight_layout()\n",
    "plt.show()\n"
   ]
  },
  {
   "cell_type": "code",
   "execution_count": 21,
   "id": "92030d18",
   "metadata": {},
   "outputs": [],
   "source": [
    "import pickle\n",
    "\n",
    "# Save model to a file\n",
    "with open(\"VITAL_model.pkl\", \"wb\") as f:\n",
    "    pickle.dump(model, f)\n"
   ]
  },
  {
   "cell_type": "code",
   "execution_count": 20,
   "id": "5d10994d",
   "metadata": {},
   "outputs": [
    {
     "name": "stdout",
     "output_type": "stream",
     "text": [
      "Model predictions saved to 'model_predictions.csv'.\n"
     ]
    }
   ],
   "source": [
    "# Save predictions\n",
    "predictions_df = pd.DataFrame({\n",
    "    \"Actual\": y_test,\n",
    "    \"Predicted\": y_pred\n",
    "})\n",
    "predictions_df.to_csv(\"model_predictions.csv\", index=False)\n",
    "print(\"Model predictions saved to 'model_predictions.csv'.\")"
   ]
  }
 ],
 "metadata": {
  "kernelspec": {
   "display_name": "Python 3",
   "language": "python",
   "name": "python3"
  },
  "language_info": {
   "codemirror_mode": {
    "name": "ipython",
    "version": 3
   },
   "file_extension": ".py",
   "mimetype": "text/x-python",
   "name": "python",
   "nbconvert_exporter": "python",
   "pygments_lexer": "ipython3",
   "version": "3.13.2"
  }
 },
 "nbformat": 4,
 "nbformat_minor": 5
}
